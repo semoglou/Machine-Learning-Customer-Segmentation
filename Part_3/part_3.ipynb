{
 "cells": [
  {
   "cell_type": "markdown",
   "id": "0be97d87-ad66-4516-9bae-2374153aafea",
   "metadata": {},
   "source": [
    "## Machine Learning and Artificial Intelligence, MSc Business Mathematics\n",
    "## Online Retail Analysis Project\n",
    "### Angelos Semoglou, s3332318\n",
    "#### **`Part 3: Association Rules, Recommendation System, Network Graph Analysis of Product Invoices and Recommendations`**"
   ]
  },
  {
   "cell_type": "markdown",
   "id": "8fa2bb7c-4607-420a-b561-6f5d8935eb9c",
   "metadata": {},
   "source": [
    "***"
   ]
  },
  {
   "cell_type": "code",
   "execution_count": 1,
   "id": "44516d4b-235c-4d0c-91c1-665e5eee852f",
   "metadata": {},
   "outputs": [],
   "source": [
    "import numpy as np\n",
    "import pandas as pd\n",
    "import matplotlib.pyplot as plt\n",
    "import seaborn as sns\n",
    "\n",
    "from mlxtend.frequent_patterns import fpgrowth, association_rules\n",
    "\n",
    "import networkx as nx\n",
    "from itertools import combinations\n",
    "import heapq"
   ]
  },
  {
   "cell_type": "markdown",
   "id": "ca4c893a-1573-4542-b813-3b302778c0d5",
   "metadata": {},
   "source": [
    "### Load Previously Processed Data from Part 1"
   ]
  },
  {
   "cell_type": "code",
   "execution_count": 2,
   "id": "f0b6958e-3254-4925-89f1-d68d263ffbba",
   "metadata": {},
   "outputs": [],
   "source": [
    "all_data = pd.read_csv('processed_online_retail.csv')\n",
    "\n",
    "# Convert the 'customer_id' column to string type \n",
    "all_data['customer_id'] = all_data['customer_id'].astype(str)   \n",
    "\n",
    "# Convert the 'invoice_date' column to datetime type\n",
    "all_data['invoice_date'] = pd.to_datetime(all_data['invoice_date'])"
   ]
  },
  {
   "cell_type": "code",
   "execution_count": 3,
   "id": "45192798",
   "metadata": {
    "scrolled": true
   },
   "outputs": [
    {
     "data": {
      "text/html": [
       "<div>\n",
       "<style scoped>\n",
       "    .dataframe tbody tr th:only-of-type {\n",
       "        vertical-align: middle;\n",
       "    }\n",
       "\n",
       "    .dataframe tbody tr th {\n",
       "        vertical-align: top;\n",
       "    }\n",
       "\n",
       "    .dataframe thead th {\n",
       "        text-align: right;\n",
       "    }\n",
       "</style>\n",
       "<table border=\"1\" class=\"dataframe\">\n",
       "  <thead>\n",
       "    <tr style=\"text-align: right;\">\n",
       "      <th></th>\n",
       "      <th>invoice_id</th>\n",
       "      <th>product_id</th>\n",
       "      <th>description</th>\n",
       "      <th>quantity</th>\n",
       "      <th>invoice_date</th>\n",
       "      <th>price_per_unit</th>\n",
       "      <th>customer_id</th>\n",
       "      <th>country</th>\n",
       "      <th>invoice_amount</th>\n",
       "      <th>year</th>\n",
       "      <th>month</th>\n",
       "      <th>day</th>\n",
       "      <th>hour</th>\n",
       "      <th>season</th>\n",
       "      <th>category</th>\n",
       "    </tr>\n",
       "  </thead>\n",
       "  <tbody>\n",
       "    <tr>\n",
       "      <th>0</th>\n",
       "      <td>536365</td>\n",
       "      <td>85123A</td>\n",
       "      <td>WHITE HANGING HEART T-LIGHT HOLDER</td>\n",
       "      <td>6</td>\n",
       "      <td>2010-12-01 08:26:00</td>\n",
       "      <td>2.55</td>\n",
       "      <td>17850.0</td>\n",
       "      <td>United Kingdom</td>\n",
       "      <td>15.30</td>\n",
       "      <td>2010</td>\n",
       "      <td>12</td>\n",
       "      <td>1</td>\n",
       "      <td>8</td>\n",
       "      <td>Winter</td>\n",
       "      <td>Vintage Design</td>\n",
       "    </tr>\n",
       "    <tr>\n",
       "      <th>1</th>\n",
       "      <td>536365</td>\n",
       "      <td>71053</td>\n",
       "      <td>WHITE METAL LANTERN</td>\n",
       "      <td>6</td>\n",
       "      <td>2010-12-01 08:26:00</td>\n",
       "      <td>3.39</td>\n",
       "      <td>17850.0</td>\n",
       "      <td>United Kingdom</td>\n",
       "      <td>20.34</td>\n",
       "      <td>2010</td>\n",
       "      <td>12</td>\n",
       "      <td>1</td>\n",
       "      <td>8</td>\n",
       "      <td>Winter</td>\n",
       "      <td>Urban Home &amp; Jewellery</td>\n",
       "    </tr>\n",
       "    <tr>\n",
       "      <th>2</th>\n",
       "      <td>536365</td>\n",
       "      <td>84406B</td>\n",
       "      <td>CREAM CUPID HEARTS COAT HANGER</td>\n",
       "      <td>8</td>\n",
       "      <td>2010-12-01 08:26:00</td>\n",
       "      <td>2.75</td>\n",
       "      <td>17850.0</td>\n",
       "      <td>United Kingdom</td>\n",
       "      <td>22.00</td>\n",
       "      <td>2010</td>\n",
       "      <td>12</td>\n",
       "      <td>1</td>\n",
       "      <td>8</td>\n",
       "      <td>Winter</td>\n",
       "      <td>Urban Home &amp; Jewellery</td>\n",
       "    </tr>\n",
       "  </tbody>\n",
       "</table>\n",
       "</div>"
      ],
      "text/plain": [
       "  invoice_id product_id                         description  quantity  \\\n",
       "0     536365     85123A  WHITE HANGING HEART T-LIGHT HOLDER         6   \n",
       "1     536365      71053                 WHITE METAL LANTERN         6   \n",
       "2     536365     84406B      CREAM CUPID HEARTS COAT HANGER         8   \n",
       "\n",
       "         invoice_date  price_per_unit customer_id         country  \\\n",
       "0 2010-12-01 08:26:00            2.55     17850.0  United Kingdom   \n",
       "1 2010-12-01 08:26:00            3.39     17850.0  United Kingdom   \n",
       "2 2010-12-01 08:26:00            2.75     17850.0  United Kingdom   \n",
       "\n",
       "   invoice_amount  year  month  day  hour  season                category  \n",
       "0           15.30  2010     12    1     8  Winter          Vintage Design  \n",
       "1           20.34  2010     12    1     8  Winter  Urban Home & Jewellery  \n",
       "2           22.00  2010     12    1     8  Winter  Urban Home & Jewellery  "
      ]
     },
     "execution_count": 3,
     "metadata": {},
     "output_type": "execute_result"
    }
   ],
   "source": [
    "all_data.head(3)"
   ]
  },
  {
   "cell_type": "markdown",
   "id": "e3c24b92-42c1-4834-8b7d-0a8dbdb66dd4",
   "metadata": {},
   "source": [
    "***"
   ]
  },
  {
   "cell_type": "markdown",
   "id": "f8b5f7ce-39c0-49cd-b29e-f2ea496ebcd9",
   "metadata": {},
   "source": [
    "### Association Rules Mining using FP-Growth Algorithm"
   ]
  },
  {
   "cell_type": "markdown",
   "id": "bcc7214b-9547-48f9-87b8-0e1be2ef772b",
   "metadata": {},
   "source": [
    "#### **Key Metrics in Association Rule Mining**"
   ]
  },
  {
   "cell_type": "markdown",
   "id": "9039ad3f-ed63-4eb1-8a6e-3880524b8db4",
   "metadata": {},
   "source": [
    "\n",
    "**Support**\n",
    "- **Definition**: Support is a measure of how frequently an itemset appears in the dataset. \n",
    "- **Calculation**: It is calculated as the proportion of transactions in the dataset that contain the itemset.\n",
    "- **Formula**: \n",
    "  $$\n",
    "  \\text{Support}(X) = \\frac{\\text{Number of transactions containing } X}{\\text{Total number of transactions}}\n",
    "  $$\n",
    "- **Interpretation**: Higher support indicates that the itemset is more common in the dataset. It's used to filter out the itemsets that are too infrequent to be of interest.\n",
    "\n",
    "**Confidence**\n",
    "- **Definition**: Confidence is a measure of the likelihood that an item Y is purchased when item X is purchased. It represents the percentage of transactions containing X that also contain Y.\n",
    "- **Calculation**: It is calculated as the ratio of the number of transactions that contain both X and Y to the number of transactions that contain X.\n",
    "- **Formula**:\n",
    "  $$\n",
    "  \\text{Confidence}(X \\rightarrow Y) = \\frac{\\text{Support}(X \\cup Y)}{\\text{Support}(X)}\n",
    "  $$\n",
    "- **Interpretation**: Higher confidence indicates a stronger association between items X and Y. It helps in identifying rules that have a high likelihood of occurrence.\n",
    "\n",
    "**Lift**\n",
    "- **Definition**: Lift is a measure of how much more likely item Y is purchased when item X is purchased, compared to its general likelihood of being purchased.\n",
    "- **Calculation**: It is calculated as the ratio of the observed support for X and Y to the expected support if X and Y were independent.\n",
    "- **Formula**:\n",
    "  $$\n",
    "  \\text{Lift}(X \\rightarrow Y) = \\frac{\\text{Support}(X \\cup Y)}{\\text{Support}(X) \\times \\text{Support}(Y)}\n",
    "  $$\n",
    "- **Interpretation**: Lift greater than 1 indicates a positive association between X and Y, meaning they occur together more often than expected by chance. Lift less than 1 indicates a negative association, and lift equal to 1 indicates no association.\n",
    "\n"
   ]
  },
  {
   "cell_type": "code",
   "execution_count": 4,
   "id": "fbd6a1ce-b016-4e8c-8ca0-7fed4f2ccf58",
   "metadata": {},
   "outputs": [],
   "source": [
    "class AssociationRules():\n",
    "    \n",
    "    def __init__(self, min_support, metric, min_metric_threshold, max_len = None):\n",
    "        self.min_support = min_support\n",
    "        self.metric = metric\n",
    "        self.min_metric_threshold = min_metric_threshold\n",
    "        self.max_len = max_len\n",
    "\n",
    "    def generate_rules(self, data, index = 'invoice_id', columns = 'description'):\n",
    "        \n",
    "        # Transforming dataset in a form suitable for FPGrowth\n",
    "        grouped = data.groupby(index)[columns].agg(list)\n",
    "\n",
    "        one_hot_encoded  = grouped.str.join('|').str.get_dummies()\n",
    "\n",
    "        product_matrix = one_hot_encoded .astype(bool)\n",
    "\n",
    "        # Creating frequent itemsets\n",
    "        frequent_itemsets = fpgrowth(product_matrix,\n",
    "                                     min_support = self.min_support,\n",
    "                                     use_colnames = True,\n",
    "                                     max_len = self.max_len)\n",
    "\n",
    "        # Extracting Association Rules\n",
    "        rules = association_rules(frequent_itemsets,\n",
    "                                  metric = self.metric,\n",
    "                                  min_threshold = self.min_metric_threshold)\n",
    "        return rules"
   ]
  },
  {
   "cell_type": "code",
   "execution_count": 5,
   "id": "3ecf9712-ba6e-4fec-927e-a9d9bf757dbf",
   "metadata": {},
   "outputs": [],
   "source": [
    "minimun_support = 0.005\n",
    "chosen_metric = 'lift'\n",
    "minimun_metric_threshold = 1.2\n",
    "max_item_len = 2"
   ]
  },
  {
   "cell_type": "code",
   "execution_count": 6,
   "id": "935c11d1-81c0-4fa7-a20d-fca526ea7577",
   "metadata": {},
   "outputs": [],
   "source": [
    "builder = AssociationRules(min_support = minimun_support,\n",
    "                           metric = chosen_metric,\n",
    "                           min_metric_threshold = minimun_metric_threshold,\n",
    "                           max_len = max_item_len)\n",
    "\n",
    "rules_df = builder.generate_rules(all_data,\n",
    "                                  index = 'invoice_id',\n",
    "                                  columns = 'description')\n",
    "\n",
    "\n",
    "# Convert frozenset to list\n",
    "rules_df.loc[:, 'antecedents'] = rules_df['antecedents'].apply(lambda x: list(x))\n",
    "rules_df.loc[:, 'consequents'] = rules_df['consequents'].apply(lambda x: list(x))\n",
    "\n",
    "rules_df['antecedents'] = rules_df['antecedents'].apply(lambda x : x[0])\n",
    "rules_df['consequents'] = rules_df['consequents'].apply(lambda x : x[0])\n",
    "\n",
    "# Select relevant columns\n",
    "rules_df = rules_df[['antecedents',\n",
    "                     'consequents',\n",
    "                     'support',\n",
    "                     'confidence',\n",
    "                     'lift']]"
   ]
  },
  {
   "cell_type": "code",
   "execution_count": 7,
   "id": "36faf244-b0da-48de-9206-b8ee01185816",
   "metadata": {},
   "outputs": [
    {
     "data": {
      "text/html": [
       "<div>\n",
       "<style scoped>\n",
       "    .dataframe tbody tr th:only-of-type {\n",
       "        vertical-align: middle;\n",
       "    }\n",
       "\n",
       "    .dataframe tbody tr th {\n",
       "        vertical-align: top;\n",
       "    }\n",
       "\n",
       "    .dataframe thead th {\n",
       "        text-align: right;\n",
       "    }\n",
       "</style>\n",
       "<table border=\"1\" class=\"dataframe\">\n",
       "  <thead>\n",
       "    <tr style=\"text-align: right;\">\n",
       "      <th></th>\n",
       "      <th>antecedents</th>\n",
       "      <th>consequents</th>\n",
       "      <th>support</th>\n",
       "      <th>confidence</th>\n",
       "      <th>lift</th>\n",
       "    </tr>\n",
       "  </thead>\n",
       "  <tbody>\n",
       "    <tr>\n",
       "      <th>0</th>\n",
       "      <td>HAND WARMER OWL DESIGN</td>\n",
       "      <td>HAND WARMER UNION JACK</td>\n",
       "      <td>0.009658</td>\n",
       "      <td>0.362069</td>\n",
       "      <td>17.652080</td>\n",
       "    </tr>\n",
       "    <tr>\n",
       "      <th>1</th>\n",
       "      <td>HAND WARMER UNION JACK</td>\n",
       "      <td>HAND WARMER OWL DESIGN</td>\n",
       "      <td>0.009658</td>\n",
       "      <td>0.470852</td>\n",
       "      <td>17.652080</td>\n",
       "    </tr>\n",
       "    <tr>\n",
       "      <th>2</th>\n",
       "      <td>HAND WARMER UNION JACK</td>\n",
       "      <td>HAND WARMER SCOTTY DOG DESIGN</td>\n",
       "      <td>0.008738</td>\n",
       "      <td>0.426009</td>\n",
       "      <td>19.583803</td>\n",
       "    </tr>\n",
       "  </tbody>\n",
       "</table>\n",
       "</div>"
      ],
      "text/plain": [
       "              antecedents                    consequents   support  \\\n",
       "0  HAND WARMER OWL DESIGN         HAND WARMER UNION JACK  0.009658   \n",
       "1  HAND WARMER UNION JACK         HAND WARMER OWL DESIGN  0.009658   \n",
       "2  HAND WARMER UNION JACK  HAND WARMER SCOTTY DOG DESIGN  0.008738   \n",
       "\n",
       "   confidence       lift  \n",
       "0    0.362069  17.652080  \n",
       "1    0.470852  17.652080  \n",
       "2    0.426009  19.583803  "
      ]
     },
     "metadata": {},
     "output_type": "display_data"
    }
   ],
   "source": [
    "display(rules_df.head(3))"
   ]
  },
  {
   "cell_type": "code",
   "execution_count": 8,
   "id": "e613d9f4-08bb-4541-9bba-61883182e771",
   "metadata": {},
   "outputs": [],
   "source": [
    "rules_df = rules_df.sort_values(by=['confidence', 'lift'], ascending=[False, False])"
   ]
  },
  {
   "cell_type": "code",
   "execution_count": 9,
   "id": "62d2a957-764a-4bef-a2c2-00c071f97c01",
   "metadata": {},
   "outputs": [
    {
     "data": {
      "text/html": [
       "<div>\n",
       "<style scoped>\n",
       "    .dataframe tbody tr th:only-of-type {\n",
       "        vertical-align: middle;\n",
       "    }\n",
       "\n",
       "    .dataframe tbody tr th {\n",
       "        vertical-align: top;\n",
       "    }\n",
       "\n",
       "    .dataframe thead th {\n",
       "        text-align: right;\n",
       "    }\n",
       "</style>\n",
       "<table border=\"1\" class=\"dataframe\">\n",
       "  <thead>\n",
       "    <tr style=\"text-align: right;\">\n",
       "      <th></th>\n",
       "      <th>antecedents</th>\n",
       "      <th>consequents</th>\n",
       "      <th>support</th>\n",
       "      <th>confidence</th>\n",
       "      <th>lift</th>\n",
       "    </tr>\n",
       "  </thead>\n",
       "  <tbody>\n",
       "    <tr>\n",
       "      <th>1151</th>\n",
       "      <td>HERB MARKER THYME</td>\n",
       "      <td>HERB MARKER ROSEMARY</td>\n",
       "      <td>0.008140</td>\n",
       "      <td>0.946524</td>\n",
       "      <td>107.755075</td>\n",
       "    </tr>\n",
       "    <tr>\n",
       "      <th>1158</th>\n",
       "      <td>HERB MARKER CHIVES</td>\n",
       "      <td>HERB MARKER PARSLEY</td>\n",
       "      <td>0.007174</td>\n",
       "      <td>0.934132</td>\n",
       "      <td>108.041279</td>\n",
       "    </tr>\n",
       "    <tr>\n",
       "      <th>1145</th>\n",
       "      <td>HERB MARKER PARSLEY</td>\n",
       "      <td>HERB MARKER ROSEMARY</td>\n",
       "      <td>0.008048</td>\n",
       "      <td>0.930851</td>\n",
       "      <td>105.970814</td>\n",
       "    </tr>\n",
       "    <tr>\n",
       "      <th>1160</th>\n",
       "      <td>HERB MARKER CHIVES</td>\n",
       "      <td>HERB MARKER THYME</td>\n",
       "      <td>0.007128</td>\n",
       "      <td>0.928144</td>\n",
       "      <td>107.922764</td>\n",
       "    </tr>\n",
       "    <tr>\n",
       "      <th>1163</th>\n",
       "      <td>HERB MARKER CHIVES</td>\n",
       "      <td>HERB MARKER ROSEMARY</td>\n",
       "      <td>0.007128</td>\n",
       "      <td>0.928144</td>\n",
       "      <td>105.662601</td>\n",
       "    </tr>\n",
       "  </tbody>\n",
       "</table>\n",
       "</div>"
      ],
      "text/plain": [
       "              antecedents           consequents   support  confidence  \\\n",
       "1151    HERB MARKER THYME  HERB MARKER ROSEMARY  0.008140    0.946524   \n",
       "1158  HERB MARKER CHIVES    HERB MARKER PARSLEY  0.007174    0.934132   \n",
       "1145  HERB MARKER PARSLEY  HERB MARKER ROSEMARY  0.008048    0.930851   \n",
       "1160  HERB MARKER CHIVES      HERB MARKER THYME  0.007128    0.928144   \n",
       "1163  HERB MARKER CHIVES   HERB MARKER ROSEMARY  0.007128    0.928144   \n",
       "\n",
       "            lift  \n",
       "1151  107.755075  \n",
       "1158  108.041279  \n",
       "1145  105.970814  \n",
       "1160  107.922764  \n",
       "1163  105.662601  "
      ]
     },
     "metadata": {},
     "output_type": "display_data"
    }
   ],
   "source": [
    "display(rules_df.head())"
   ]
  },
  {
   "cell_type": "markdown",
   "id": "4418fe8f-12b6-49cf-90a1-c03aeb6ad878",
   "metadata": {},
   "source": [
    "***"
   ]
  },
  {
   "cell_type": "markdown",
   "id": "32687ffe-8904-4a90-9298-65409a363990",
   "metadata": {},
   "source": [
    "### Recommendation Function"
   ]
  },
  {
   "cell_type": "code",
   "execution_count": 10,
   "id": "8b5251d7-0e2b-4742-b4b8-d00a96e86595",
   "metadata": {},
   "outputs": [],
   "source": [
    "def get_recommendations_for_product(product, rules_df, basket_items, top_n=5):\n",
    "    # Find rules where the product is in the antecedents\n",
    "    recommendations = rules_df[rules_df['antecedents'] == product]['consequents']\n",
    "    \n",
    "    # Filter out items already in the cart\n",
    "    recommendations = [rec for rec in recommendations if rec not in basket_items]\n",
    "    \n",
    "    # Get the top_n recommendations\n",
    "    top_recommendations = list(pd.Series(recommendations).value_counts().head(top_n).index)\n",
    "    \n",
    "    return top_recommendations"
   ]
  },
  {
   "cell_type": "code",
   "execution_count": 11,
   "id": "0812b77a-c9e1-4b6f-83c9-41d820501b35",
   "metadata": {},
   "outputs": [],
   "source": [
    "def view_basket(user_basket, rules_df):\n",
    "    print(\"Items in basket:\")\n",
    "    for item in user_basket:\n",
    "        print(f\"- {item}\")\n",
    "    print(\"\\nRecommendations:\")\n",
    "    \n",
    "    for item in user_basket:\n",
    "        recommendations = get_recommendations_for_product(item, rules_df, user_basket)\n",
    "        if recommendations:\n",
    "            print(f\"\\nBecause you liked '{item}', you may like:\")\n",
    "            for rec in recommendations:\n",
    "                print(f\"- {rec}\")\n",
    "        else:\n",
    "            print(f\"\\nNo recommendations found for '{item}'\")"
   ]
  },
  {
   "cell_type": "code",
   "execution_count": 12,
   "id": "360fc8a1",
   "metadata": {},
   "outputs": [
    {
     "name": "stdout",
     "output_type": "stream",
     "text": [
      "Items in basket:\n",
      "- HAND WARMER OWL DESIGN\n",
      "- HERB MARKER THYME\n",
      "- ALARM CLOCK BAKELIKE PINK\n",
      "- JAM MAKING SET WITH JARS\n",
      "- JUMBO BAG APPLES\n",
      "- RED KITCHEN SCALES\n",
      "\n",
      "Recommendations:\n",
      "\n",
      "Because you liked 'HAND WARMER OWL DESIGN', you may like:\n",
      "- HAND WARMER SCOTTY DOG DESIGN\n",
      "- HAND WARMER BIRD DESIGN\n",
      "- HAND WARMER UNION JACK\n",
      "- HAND WARMER RED LOVE HEART\n",
      "- HAND WARMER RED RETROSPOT\n",
      "\n",
      "Because you liked 'HERB MARKER THYME', you may like:\n",
      "- HERB MARKER ROSEMARY\n",
      "- HERB MARKER PARSLEY\n",
      "- HERB MARKER BASIL\n",
      "- HERB MARKER MINT\n",
      "- HERB MARKER CHIVES \n",
      "\n",
      "Because you liked 'ALARM CLOCK BAKELIKE PINK', you may like:\n",
      "- ALARM CLOCK BAKELIKE RED \n",
      "- ALARM CLOCK BAKELIKE GREEN\n",
      "- ALARM CLOCK BAKELIKE IVORY\n",
      "- ALARM CLOCK BAKELIKE ORANGE\n",
      "- ALARM CLOCK BAKELIKE CHOCOLATE\n",
      "\n",
      "Because you liked 'JAM MAKING SET WITH JARS', you may like:\n",
      "- JAM MAKING SET PRINTED\n",
      "- SET OF 3 CAKE TINS PANTRY DESIGN \n",
      "- RECIPE BOX PANTRY YELLOW DESIGN\n",
      "- SET OF 4 PANTRY JELLY MOULDS\n",
      "- REGENCY CAKESTAND 3 TIER\n",
      "\n",
      "Because you liked 'JUMBO BAG APPLES', you may like:\n",
      "- JUMBO BAG RED RETROSPOT\n",
      "- JUMBO BAG PEARS\n",
      "- SPOTTY BUNTING\n",
      "- JUMBO STORAGE BAG SKULLS\n",
      "- RED RETROSPOT CHARLOTTE BAG\n",
      "\n",
      "Because you liked 'RED KITCHEN SCALES', you may like:\n",
      "- IVORY KITCHEN SCALES\n",
      "- MINT KITCHEN SCALES\n"
     ]
    }
   ],
   "source": [
    "user_basket = ['HAND WARMER OWL DESIGN',\n",
    "             'HERB MARKER THYME',\n",
    "             'ALARM CLOCK BAKELIKE PINK',\n",
    "             'JAM MAKING SET WITH JARS',\n",
    "             'JUMBO BAG APPLES',\n",
    "             'RED KITCHEN SCALES']\n",
    "             \n",
    "view_basket(user_basket, rules_df)"
   ]
  },
  {
   "cell_type": "code",
   "execution_count": 13,
   "id": "5900a533-41d8-4f07-9c09-e2ad9ede8e20",
   "metadata": {},
   "outputs": [
    {
     "data": {
      "text/html": [
       "<div>\n",
       "<style scoped>\n",
       "    .dataframe tbody tr th:only-of-type {\n",
       "        vertical-align: middle;\n",
       "    }\n",
       "\n",
       "    .dataframe tbody tr th {\n",
       "        vertical-align: top;\n",
       "    }\n",
       "\n",
       "    .dataframe thead th {\n",
       "        text-align: right;\n",
       "    }\n",
       "</style>\n",
       "<table border=\"1\" class=\"dataframe\">\n",
       "  <thead>\n",
       "    <tr style=\"text-align: right;\">\n",
       "      <th></th>\n",
       "      <th>antecedents</th>\n",
       "      <th>consequents</th>\n",
       "      <th>support</th>\n",
       "      <th>confidence</th>\n",
       "      <th>lift</th>\n",
       "    </tr>\n",
       "  </thead>\n",
       "  <tbody>\n",
       "    <tr>\n",
       "      <th>369</th>\n",
       "      <td>JAM MAKING SET WITH JARS</td>\n",
       "      <td>JAM MAKING SET PRINTED</td>\n",
       "      <td>0.014257</td>\n",
       "      <td>0.322581</td>\n",
       "      <td>7.979742</td>\n",
       "    </tr>\n",
       "    <tr>\n",
       "      <th>44</th>\n",
       "      <td>JAM MAKING SET WITH JARS</td>\n",
       "      <td>SET OF 3 CAKE TINS PANTRY DESIGN</td>\n",
       "      <td>0.011359</td>\n",
       "      <td>0.257024</td>\n",
       "      <td>4.588447</td>\n",
       "    </tr>\n",
       "    <tr>\n",
       "      <th>1245</th>\n",
       "      <td>JAM MAKING SET WITH JARS</td>\n",
       "      <td>RECIPE BOX PANTRY YELLOW DESIGN</td>\n",
       "      <td>0.008968</td>\n",
       "      <td>0.202914</td>\n",
       "      <td>5.059810</td>\n",
       "    </tr>\n",
       "  </tbody>\n",
       "</table>\n",
       "</div>"
      ],
      "text/plain": [
       "                   antecedents                        consequents   support  \\\n",
       "369   JAM MAKING SET WITH JARS             JAM MAKING SET PRINTED  0.014257   \n",
       "44    JAM MAKING SET WITH JARS  SET OF 3 CAKE TINS PANTRY DESIGN   0.011359   \n",
       "1245  JAM MAKING SET WITH JARS    RECIPE BOX PANTRY YELLOW DESIGN  0.008968   \n",
       "\n",
       "      confidence      lift  \n",
       "369     0.322581  7.979742  \n",
       "44      0.257024  4.588447  \n",
       "1245    0.202914  5.059810  "
      ]
     },
     "metadata": {},
     "output_type": "display_data"
    },
    {
     "data": {
      "text/html": [
       "<div>\n",
       "<style scoped>\n",
       "    .dataframe tbody tr th:only-of-type {\n",
       "        vertical-align: middle;\n",
       "    }\n",
       "\n",
       "    .dataframe tbody tr th {\n",
       "        vertical-align: top;\n",
       "    }\n",
       "\n",
       "    .dataframe thead th {\n",
       "        text-align: right;\n",
       "    }\n",
       "</style>\n",
       "<table border=\"1\" class=\"dataframe\">\n",
       "  <thead>\n",
       "    <tr style=\"text-align: right;\">\n",
       "      <th></th>\n",
       "      <th>antecedents</th>\n",
       "      <th>consequents</th>\n",
       "      <th>support</th>\n",
       "      <th>confidence</th>\n",
       "      <th>lift</th>\n",
       "    </tr>\n",
       "  </thead>\n",
       "  <tbody>\n",
       "    <tr>\n",
       "      <th>1206</th>\n",
       "      <td>RED KITCHEN SCALES</td>\n",
       "      <td>IVORY KITCHEN SCALES</td>\n",
       "      <td>0.012325</td>\n",
       "      <td>0.580087</td>\n",
       "      <td>20.117070</td>\n",
       "    </tr>\n",
       "    <tr>\n",
       "      <th>1238</th>\n",
       "      <td>RED KITCHEN SCALES</td>\n",
       "      <td>MINT KITCHEN SCALES</td>\n",
       "      <td>0.005657</td>\n",
       "      <td>0.266234</td>\n",
       "      <td>18.495166</td>\n",
       "    </tr>\n",
       "  </tbody>\n",
       "</table>\n",
       "</div>"
      ],
      "text/plain": [
       "             antecedents           consequents   support  confidence  \\\n",
       "1206  RED KITCHEN SCALES  IVORY KITCHEN SCALES  0.012325    0.580087   \n",
       "1238  RED KITCHEN SCALES   MINT KITCHEN SCALES  0.005657    0.266234   \n",
       "\n",
       "           lift  \n",
       "1206  20.117070  \n",
       "1238  18.495166  "
      ]
     },
     "metadata": {},
     "output_type": "display_data"
    },
    {
     "data": {
      "text/html": [
       "<div>\n",
       "<style scoped>\n",
       "    .dataframe tbody tr th:only-of-type {\n",
       "        vertical-align: middle;\n",
       "    }\n",
       "\n",
       "    .dataframe tbody tr th {\n",
       "        vertical-align: top;\n",
       "    }\n",
       "\n",
       "    .dataframe thead th {\n",
       "        text-align: right;\n",
       "    }\n",
       "</style>\n",
       "<table border=\"1\" class=\"dataframe\">\n",
       "  <thead>\n",
       "    <tr style=\"text-align: right;\">\n",
       "      <th></th>\n",
       "      <th>antecedents</th>\n",
       "      <th>consequents</th>\n",
       "      <th>support</th>\n",
       "      <th>confidence</th>\n",
       "      <th>lift</th>\n",
       "    </tr>\n",
       "  </thead>\n",
       "  <tbody>\n",
       "    <tr>\n",
       "      <th>602</th>\n",
       "      <td>HAND WARMER OWL DESIGN</td>\n",
       "      <td>HAND WARMER SCOTTY DOG DESIGN</td>\n",
       "      <td>0.012923</td>\n",
       "      <td>0.484483</td>\n",
       "      <td>22.271867</td>\n",
       "    </tr>\n",
       "    <tr>\n",
       "      <th>622</th>\n",
       "      <td>HAND WARMER OWL DESIGN</td>\n",
       "      <td>HAND WARMER BIRD DESIGN</td>\n",
       "      <td>0.012325</td>\n",
       "      <td>0.462069</td>\n",
       "      <td>20.931724</td>\n",
       "    </tr>\n",
       "    <tr>\n",
       "      <th>0</th>\n",
       "      <td>HAND WARMER OWL DESIGN</td>\n",
       "      <td>HAND WARMER UNION JACK</td>\n",
       "      <td>0.009658</td>\n",
       "      <td>0.362069</td>\n",
       "      <td>17.652080</td>\n",
       "    </tr>\n",
       "  </tbody>\n",
       "</table>\n",
       "</div>"
      ],
      "text/plain": [
       "                antecedents                    consequents   support  \\\n",
       "602  HAND WARMER OWL DESIGN  HAND WARMER SCOTTY DOG DESIGN  0.012923   \n",
       "622  HAND WARMER OWL DESIGN        HAND WARMER BIRD DESIGN  0.012325   \n",
       "0    HAND WARMER OWL DESIGN         HAND WARMER UNION JACK  0.009658   \n",
       "\n",
       "     confidence       lift  \n",
       "602    0.484483  22.271867  \n",
       "622    0.462069  20.931724  \n",
       "0      0.362069  17.652080  "
      ]
     },
     "metadata": {},
     "output_type": "display_data"
    }
   ],
   "source": [
    "filtered_df_1 = rules_df[rules_df['antecedents'] == 'JAM MAKING SET WITH JARS']\n",
    "filtered_df_2 = rules_df[rules_df['antecedents'] == 'RED KITCHEN SCALES']\n",
    "filtered_df_3 = rules_df[rules_df['antecedents'] == 'HAND WARMER OWL DESIGN']\n",
    "\n",
    "display(filtered_df_1.head(3))\n",
    "display(filtered_df_2.head(3))\n",
    "display(filtered_df_3.head(3))"
   ]
  },
  {
   "cell_type": "markdown",
   "id": "4185d529",
   "metadata": {},
   "source": [
    "***"
   ]
  },
  {
   "cell_type": "markdown",
   "id": "5e505b85",
   "metadata": {},
   "source": [
    "### Network Graph Analysis for Product Associations"
   ]
  },
  {
   "cell_type": "markdown",
   "id": "d0eaf836",
   "metadata": {},
   "source": [
    "**Product-Level Association Rules**"
   ]
  },
  {
   "cell_type": "code",
   "execution_count": 14,
   "id": "4f75c7ba",
   "metadata": {},
   "outputs": [
    {
     "data": {
      "text/html": [
       "<div>\n",
       "<style scoped>\n",
       "    .dataframe tbody tr th:only-of-type {\n",
       "        vertical-align: middle;\n",
       "    }\n",
       "\n",
       "    .dataframe tbody tr th {\n",
       "        vertical-align: top;\n",
       "    }\n",
       "\n",
       "    .dataframe thead th {\n",
       "        text-align: right;\n",
       "    }\n",
       "</style>\n",
       "<table border=\"1\" class=\"dataframe\">\n",
       "  <thead>\n",
       "    <tr style=\"text-align: right;\">\n",
       "      <th></th>\n",
       "      <th>antecedents</th>\n",
       "      <th>consequents</th>\n",
       "      <th>support</th>\n",
       "      <th>confidence</th>\n",
       "      <th>lift</th>\n",
       "    </tr>\n",
       "  </thead>\n",
       "  <tbody>\n",
       "    <tr>\n",
       "      <th>0</th>\n",
       "      <td>HAND WARMER OWL DESIGN</td>\n",
       "      <td>HAND WARMER UNION JACK</td>\n",
       "      <td>0.009658</td>\n",
       "      <td>0.362069</td>\n",
       "      <td>17.652080</td>\n",
       "    </tr>\n",
       "    <tr>\n",
       "      <th>1</th>\n",
       "      <td>HAND WARMER UNION JACK</td>\n",
       "      <td>HAND WARMER OWL DESIGN</td>\n",
       "      <td>0.009658</td>\n",
       "      <td>0.470852</td>\n",
       "      <td>17.652080</td>\n",
       "    </tr>\n",
       "    <tr>\n",
       "      <th>2</th>\n",
       "      <td>HAND WARMER UNION JACK</td>\n",
       "      <td>HAND WARMER SCOTTY DOG DESIGN</td>\n",
       "      <td>0.008738</td>\n",
       "      <td>0.426009</td>\n",
       "      <td>19.583803</td>\n",
       "    </tr>\n",
       "  </tbody>\n",
       "</table>\n",
       "</div>"
      ],
      "text/plain": [
       "              antecedents                    consequents   support  \\\n",
       "0  HAND WARMER OWL DESIGN         HAND WARMER UNION JACK  0.009658   \n",
       "1  HAND WARMER UNION JACK         HAND WARMER OWL DESIGN  0.009658   \n",
       "2  HAND WARMER UNION JACK  HAND WARMER SCOTTY DOG DESIGN  0.008738   \n",
       "\n",
       "   confidence       lift  \n",
       "0    0.362069  17.652080  \n",
       "1    0.470852  17.652080  \n",
       "2    0.426009  19.583803  "
      ]
     },
     "metadata": {},
     "output_type": "display_data"
    }
   ],
   "source": [
    "minimun_support = 0.005\n",
    "chosen_metric = 'lift'\n",
    "minimun_metric_threshold = 1.2\n",
    "max_item_len = 2\n",
    "\n",
    "builder = AssociationRules(min_support = minimun_support,\n",
    "                           metric = chosen_metric,\n",
    "                           min_metric_threshold = minimun_metric_threshold,\n",
    "                           max_len = max_item_len)\n",
    "\n",
    "rules_df = builder.generate_rules(all_data,\n",
    "                                  index = 'invoice_id',\n",
    "                                  columns = 'description')\n",
    "# Convert frozenset to list\n",
    "rules_df.loc[:, 'antecedents'] = rules_df['antecedents'].apply(lambda x: list(x))\n",
    "rules_df.loc[:, 'consequents'] = rules_df['consequents'].apply(lambda x: list(x))\n",
    "\n",
    "rules_df['antecedents'] = rules_df['antecedents'].apply(lambda x : x[0])\n",
    "rules_df['consequents'] = rules_df['consequents'].apply(lambda x : x[0])\n",
    "\n",
    "rules_df = rules_df[['antecedents',\n",
    "                     'consequents',\n",
    "                     'support',\n",
    "                     'confidence',\n",
    "                     'lift']]\n",
    "\n",
    "display(rules_df.head(3))"
   ]
  },
  {
   "cell_type": "markdown",
   "id": "81233bc5",
   "metadata": {},
   "source": [
    "**Product Category-Level Association Rules**"
   ]
  },
  {
   "cell_type": "code",
   "execution_count": 15,
   "id": "8ed4d62d",
   "metadata": {},
   "outputs": [
    {
     "data": {
      "text/html": [
       "<div>\n",
       "<style scoped>\n",
       "    .dataframe tbody tr th:only-of-type {\n",
       "        vertical-align: middle;\n",
       "    }\n",
       "\n",
       "    .dataframe tbody tr th {\n",
       "        vertical-align: top;\n",
       "    }\n",
       "\n",
       "    .dataframe thead th {\n",
       "        text-align: right;\n",
       "    }\n",
       "</style>\n",
       "<table border=\"1\" class=\"dataframe\">\n",
       "  <thead>\n",
       "    <tr style=\"text-align: right;\">\n",
       "      <th></th>\n",
       "      <th>antecedents</th>\n",
       "      <th>consequents</th>\n",
       "      <th>support</th>\n",
       "      <th>confidence</th>\n",
       "      <th>lift</th>\n",
       "    </tr>\n",
       "  </thead>\n",
       "  <tbody>\n",
       "    <tr>\n",
       "      <th>0</th>\n",
       "      <td>Classic Artistry</td>\n",
       "      <td>Vintage Design</td>\n",
       "      <td>0.612859</td>\n",
       "      <td>0.822745</td>\n",
       "      <td>1.142386</td>\n",
       "    </tr>\n",
       "    <tr>\n",
       "      <th>1</th>\n",
       "      <td>Vintage Design</td>\n",
       "      <td>Classic Artistry</td>\n",
       "      <td>0.612859</td>\n",
       "      <td>0.850958</td>\n",
       "      <td>1.142386</td>\n",
       "    </tr>\n",
       "    <tr>\n",
       "      <th>2</th>\n",
       "      <td>Accessories</td>\n",
       "      <td>Vintage Design</td>\n",
       "      <td>0.529525</td>\n",
       "      <td>0.780716</td>\n",
       "      <td>1.084029</td>\n",
       "    </tr>\n",
       "  </tbody>\n",
       "</table>\n",
       "</div>"
      ],
      "text/plain": [
       "        antecedents       consequents   support  confidence      lift\n",
       "0  Classic Artistry    Vintage Design  0.612859    0.822745  1.142386\n",
       "1    Vintage Design  Classic Artistry  0.612859    0.850958  1.142386\n",
       "2       Accessories    Vintage Design  0.529525    0.780716  1.084029"
      ]
     },
     "metadata": {},
     "output_type": "display_data"
    }
   ],
   "source": [
    "# Lower Thresholds on Category Associations to get the general behavior between category purchases\n",
    "minimun_support = 0.00005\n",
    "chosen_metric = 'lift'\n",
    "minimun_metric_threshold = 1\n",
    "max_item_len = 2\n",
    "\n",
    "builder_c = AssociationRules(min_support=minimun_support,\n",
    "                             metric=chosen_metric,\n",
    "                             min_metric_threshold=minimun_metric_threshold,\n",
    "                             max_len=max_item_len)\n",
    "\n",
    "# Generate rules for categories\n",
    "rules_categories_df = builder_c.generate_rules(all_data, columns='category')\n",
    "\n",
    "# Convert frozenset to list\n",
    "rules_categories_df.loc[:, 'antecedents'] = rules_categories_df['antecedents'].apply(lambda x: list(x))\n",
    "rules_categories_df.loc[:, 'consequents'] = rules_categories_df['consequents'].apply(lambda x: list(x))\n",
    "\n",
    "rules_categories_df['antecedents'] = rules_categories_df['antecedents'].apply(lambda x : x[0])\n",
    "rules_categories_df['consequents'] = rules_categories_df['consequents'].apply(lambda x : x[0])\n",
    "\n",
    "rules_categories_df = rules_categories_df[['antecedents',\n",
    "                                           'consequents',\n",
    "                                           'support',\n",
    "                                           'confidence',\n",
    "                                           'lift']]\n",
    "\n",
    "display(rules_categories_df.head(3))"
   ]
  },
  {
   "cell_type": "markdown",
   "id": "52d91f2e",
   "metadata": {},
   "source": [
    "### Dynamic Product Network Graph Constructor"
   ]
  },
  {
   "cell_type": "markdown",
   "id": "d25fdece",
   "metadata": {},
   "source": [
    "The GraphBuilder class is designed to create a directed graph that visualizes the relationships between products based on invoice data. This class uses both product and category-level association rules to establish connections, which helps in identifying key influencers within the product network.\n",
    "\n",
    "This class enables the analysis of product relationships through a network graph, making it easier to understand complex interdependencies in purchasing behavior.\n",
    "\n",
    "The graph is constructed using both direct product-to-product associations and broader category-to-category relationships as a fallback mechanism.\n",
    "\n",
    "#### Initialize Nodes\n",
    "- **Description**: Initializes graph nodes using unique product descriptions from the data.\n",
    "- **Implementation**: Iterates over unique descriptions and adds each as a node to the graph.\n",
    "\n",
    "#### Add Edge Attributes\n",
    "- **Description**: Helper function to add edges between nodes with attributes like confidence, support, and lift.\n",
    "- **Implementation**: Adds an edge between specified nodes with the provided attributes, defaulting to zero if none provided.\n",
    "\n",
    "#### Precompute Descriptions to Categories\n",
    "- **Description**: Caches the category information for each product description for quick access.\n",
    "- **Implementation**: Creates a dictionary mapping each description to its corresponding category using data from a DataFrame.\n",
    "\n",
    "#### Build Graph\n",
    "- **Description**: Constructs the network graph based on direct associations and available category-level data.\n",
    "- **Implementation**:\n",
    "  - Iterates over sets of products grouped by invoices.\n",
    "  - For each product pair, direct product-to-product connections are established if available.\n",
    "  - If direct connections are absent, attempts to connect products based on category data.\n",
    "\n",
    "#### Connect Isolated Nodes\n",
    "- **Description**: Connects nodes that remain isolated after initial graph construction to enhance graph connectivity.\n",
    "- **Implementation**:\n",
    "  - Identifies isolated nodes using NetworkX.\n",
    "  - For each isolated node, assesses category connections based on the highest confidence between the node's category and other categories.\n",
    "  - Connects each isolated node to the most central node in the category with the highest connection confidence, using degree centrality to determine centrality within that category.\n"
   ]
  },
  {
   "cell_type": "code",
   "execution_count": 16,
   "id": "be1bb807",
   "metadata": {},
   "outputs": [],
   "source": [
    "class GraphBuilder():\n",
    "    def __init__(self, data, rules_df, rules_hfbs_df):\n",
    "        self.data = data\n",
    "        self.rules_df = rules_df\n",
    "        self.rules_categories_df = rules_categories_df\n",
    "        self.graph = nx.DiGraph()\n",
    "        self.initialize_nodes()\n",
    "\n",
    "    def initialize_nodes(self):\n",
    "        \"\"\" Initialize all products as nodes with default attributes. \"\"\"\n",
    "        descriptions = self.data['description'].unique()\n",
    "        for desc in descriptions:\n",
    "            self.graph.add_node(desc)\n",
    "\n",
    "    def add_edge_attributes(self, node1, node2, conf, supp, lift):\n",
    "        \"\"\" Helper function to add attributes to edges \"\"\"\n",
    "        self.graph.add_edge(node1, node2, confidence=conf or 0, support=supp or 0, lift=lift or 0)\n",
    "\n",
    "    def precompute_descriptions_to_categories(self):\n",
    "        \"\"\" Cache category information for descriptions to speed up access \"\"\"\n",
    "        return self.data.drop_duplicates('description').set_index('description')['category'].to_dict()\n",
    "\n",
    "    def build_graph(self):\n",
    "        desc_confidence = {(row['antecedents'], row['consequents']): row for _, row in self.rules_df.iterrows()}\n",
    "        cat_confidence = {(row['antecedents'], row['consequents']): row for _, row in self.rules_categories_df.iterrows()}\n",
    "        description_to_category = self.precompute_descriptions_to_categories()\n",
    "\n",
    "        for products in self.data.groupby('invoice_id')['description'].apply(set):\n",
    "            for prod_i, prod_j in combinations(products, 2):\n",
    "                if (prod_i, prod_j) in desc_confidence:\n",
    "                    row = desc_confidence[(prod_i, prod_j)]\n",
    "                    self.add_edge_attributes(prod_i, prod_j, row['confidence'], row['support'], row['lift'])\n",
    "                elif (prod_j, prod_i) in desc_confidence:\n",
    "                    row = desc_confidence[(prod_j, prod_i)]\n",
    "                    self.add_edge_attributes(prod_j, prod_i, row['confidence'], row['support'], row['lift'])\n",
    "\n",
    "        self.connect_isolated_nodes(description_to_category, cat_confidence)\n",
    "\n",
    "        return self.graph\n",
    "\n",
    "    def connect_isolated_nodes(self, description_to_category, cat_confidence):\n",
    "        \"\"\" Link isolated nodes to the most central node\n",
    "        in the category that has the highest confidence metric with the isolated node's own category.\"\"\"\n",
    "        category_to_nodes = {}\n",
    "        for desc, cat in description_to_category.items():\n",
    "            if cat in category_to_nodes:\n",
    "                category_to_nodes[cat].append(desc)\n",
    "            else:\n",
    "                category_to_nodes[cat] = [desc]\n",
    "\n",
    "        # Calculate the most central node in each category\n",
    "        category_to_central_node = {}\n",
    "        for cat, nodes in category_to_nodes.items():\n",
    "            subgraph = self.graph.subgraph(nodes)\n",
    "            centralities = nx.degree_centrality(subgraph)\n",
    "            most_central_node = max(centralities, key=centralities.get)  # Find the node with the highest centrality\n",
    "            category_to_central_node[cat] = most_central_node\n",
    "\n",
    "        # Connect isolated nodes to the most central node of the most connected category\n",
    "        isolated_nodes = list(nx.isolates(self.graph))\n",
    "        for node in isolated_nodes:\n",
    "            node_category = description_to_category.get(node)\n",
    "            if not node_category:\n",
    "                continue\n",
    "\n",
    "            # Determine the category with the highest confidence connection to this node's category\n",
    "            best_connected_category = None\n",
    "            highest_confidence = -1\n",
    "            for (cat1, cat2), props in cat_confidence.items():\n",
    "                if cat1 == node_category and props['confidence'] > highest_confidence:\n",
    "                    best_connected_category = cat2\n",
    "                    highest_confidence = props['confidence']\n",
    "                elif cat2 == node_category and props['confidence'] > highest_confidence:\n",
    "                    best_connected_category = cat1\n",
    "                    highest_confidence = props['confidence']\n",
    "\n",
    "            # Connect the node to the central node of the best connected category\n",
    "            if best_connected_category and best_connected_category in category_to_central_node:\n",
    "                central_node = category_to_central_node[best_connected_category]\n",
    "                self.add_edge_attributes(node, central_node, conf=0.1, supp=0.1, lift=1.0)"
   ]
  },
  {
   "cell_type": "code",
   "execution_count": 17,
   "id": "4e4bf51f",
   "metadata": {},
   "outputs": [],
   "source": [
    "builder = GraphBuilder(all_data, rules_df, rules_categories_df)\n",
    "graph = builder.build_graph()"
   ]
  },
  {
   "cell_type": "code",
   "execution_count": 18,
   "id": "89820971",
   "metadata": {},
   "outputs": [],
   "source": [
    "G = graph"
   ]
  },
  {
   "cell_type": "markdown",
   "id": "e8ea6f82",
   "metadata": {},
   "source": [
    "Ensure that the Graph does not have isolated nodes"
   ]
  },
  {
   "cell_type": "code",
   "execution_count": 19,
   "id": "74bf88c9",
   "metadata": {},
   "outputs": [
    {
     "name": "stdout",
     "output_type": "stream",
     "text": [
      "No isolated nodes found in the graph.\n"
     ]
    }
   ],
   "source": [
    "def print_isolated_nodes(g):\n",
    "   \n",
    "    isolated_nodes = list(nx.isolates(g))\n",
    "    \n",
    "    if not isolated_nodes:\n",
    "        print(\"No isolated nodes found in the graph.\")\n",
    "    else:\n",
    "        print(f\"Isolated nodes found: {len(isolated_nodes)}\")\n",
    "        print(f\"Isolated nodes: {isolated_nodes}\")\n",
    "    \n",
    "    return isolated_nodes\n",
    "\n",
    "isolated_nodes = print_isolated_nodes(G)"
   ]
  },
  {
   "cell_type": "markdown",
   "id": "42799fe2",
   "metadata": {},
   "source": [
    "***"
   ]
  },
  {
   "cell_type": "markdown",
   "id": "aa86a9ab",
   "metadata": {},
   "source": [
    "### Personalized PageRank Recommendations"
   ]
  },
  {
   "cell_type": "markdown",
   "id": "cea496ec",
   "metadata": {},
   "source": [
    "Personalized PageRank adapts the original PageRank algorithm to focus on a specific node (product), emphasizing paths that start from this node. \n",
    "This provides a personalized ranking of all nodes in the graph based on their relevance to the starting node."
   ]
  },
  {
   "cell_type": "markdown",
   "id": "428bf8de",
   "metadata": {},
   "source": [
    "By tailoring the PageRank to a starting node, we ensure that the recommendations are highly relevant to the user's current interest or recent activity."
   ]
  },
  {
   "cell_type": "markdown",
   "id": "12f331d8",
   "metadata": {},
   "source": [
    "Personalized PageRank considers the entire graph's structure, which helps identify both direct and indirect relationships between products. This holistic view can reveal less obvious but potentially valuable recommendations."
   ]
  },
  {
   "cell_type": "code",
   "execution_count": 20,
   "id": "227fafba",
   "metadata": {},
   "outputs": [],
   "source": [
    "def personalized_pagerank_recommendations(G, start_node, alpha=0.85):\n",
    "    if start_node not in G:\n",
    "        print(f\"Error: {start_node} does not exist in the graph.\")\n",
    "        return pd.DataFrame()  # Return an empty DataFrame if the node does not exist\n",
    "    \n",
    "    # Compute the personalized PageRank\n",
    "    pr = nx.pagerank(G, alpha=alpha, personalization={start_node: 1})\n",
    "    \n",
    "    # Sort nodes by PageRank score\n",
    "    ranked_nodes = sorted(pr.items(), key=lambda x: x[1], reverse=True)\n",
    "    \n",
    "    # Filter out the start node if it appears in the recommendations\n",
    "    recommendations = [(node, score) for node, score in ranked_nodes if node != start_node]\n",
    "    \n",
    "    # Recommendations to a DataFrame\n",
    "    recommendations_df = pd.DataFrame(recommendations, columns=['Node', 'PageRank'])\n",
    "    \n",
    "    return recommendations_df"
   ]
  },
  {
   "cell_type": "markdown",
   "id": "50a34494",
   "metadata": {},
   "source": [
    "**Example**"
   ]
  },
  {
   "cell_type": "code",
   "execution_count": 21,
   "id": "fa407fb4",
   "metadata": {},
   "outputs": [
    {
     "name": "stdout",
     "output_type": "stream",
     "text": [
      "Top 10 personalized PageRank recommendations:\n",
      "                                 Node  PageRank\n",
      "0             JUMBO BAG RED RETROSPOT  0.026173\n",
      "1             LUNCH BAG  BLACK SKULL.  0.022540\n",
      "2  WHITE HANGING HEART T-LIGHT HOLDER  0.022146\n",
      "3                 LUNCH BAG CARS BLUE  0.019744\n",
      "4             JUMBO BAG PINK POLKADOT  0.019238\n",
      "5                    JUMBO BAG APPLES  0.018663\n",
      "6             LUNCH BAG PINK POLKADOT  0.017969\n",
      "7         RED RETROSPOT CHARLOTTE BAG  0.016837\n",
      "8              LUNCH BAG SUKI DESIGN   0.016281\n",
      "9              JUMBO BAG VINTAGE LEAF  0.016109\n"
     ]
    }
   ],
   "source": [
    "start_node = 'LUNCH BAG RED RETROSPOT' \n",
    "recommendations_df = personalized_pagerank_recommendations(G, start_node)\n",
    "\n",
    "print(\"Top 10 personalized PageRank recommendations:\")\n",
    "print(recommendations_df.head(10))"
   ]
  },
  {
   "cell_type": "code",
   "execution_count": 22,
   "id": "537193ce",
   "metadata": {},
   "outputs": [
    {
     "data": {
      "image/png": "[encoded data removed]",
      "text/plain": [
       "<Figure size 1000x600 with 1 Axes>"
      ]
     },
     "metadata": {},
     "output_type": "display_data"
    }
   ],
   "source": [
    "top_10_recommendations = recommendations_df.head(10)\n",
    "\n",
    "plt.figure(figsize=(10, 6))\n",
    "sns.barplot(x='PageRank', y='Node', data=top_10_recommendations, palette='viridis')\n",
    "plt.xlabel('PageRank Score')\n",
    "plt.ylabel('Node')\n",
    "plt.title(f'Top 10 Personalized PageRank Recommendations for {start_node}')\n",
    "plt.show()"
   ]
  },
  {
   "cell_type": "markdown",
   "id": "e50ef22e",
   "metadata": {},
   "source": [
    "***"
   ]
  },
  {
   "cell_type": "markdown",
   "id": "7513ef33",
   "metadata": {},
   "source": [
    "### A* Search Algorithm Recommendations"
   ]
  },
  {
   "cell_type": "markdown",
   "id": "de97f540",
   "metadata": {},
   "source": [
    "A* search algorithm finds the shortest path between nodes in a graph. In this context, the \"shortest path\" is based on the confidence of co-purchase edges, with higher confidence leading to lower costs."
   ]
  },
  {
   "cell_type": "markdown",
   "id": "933edc89",
   "metadata": {},
   "source": [
    "The path offers a personalized sequence of products that a customer is likely to purchase. This journey can make the shopping experience more engaging."
   ]
  },
  {
   "cell_type": "code",
   "execution_count": 23,
   "id": "e747858a",
   "metadata": {},
   "outputs": [],
   "source": [
    "def heuristic(graph, current, neighbor):\n",
    "    \"\"\"Heuristic based on the confidence attribute of the edge, used as inverse to prioritize high confidence.\"\"\"\n",
    "    if neighbor in graph[current]:\n",
    "        return 1 / graph[current][neighbor].get('confidence', 1)\n",
    "    return 1  # Default heuristic value if no confidence info\n",
    "\n",
    "def a_star_recommendation(graph, start, goal=None, limit=10):\n",
    "    \"\"\"A* algorithm for product recommendation using confidence as both cost and heuristic.\"\"\"\n",
    "    pq = []  # Priority queue for A* search\n",
    "    heapq.heappush(pq, (0, start, [start]))  # (estimated_cost, current_node, path)\n",
    "    visited = set()\n",
    "\n",
    "    while pq:\n",
    "        estimated_cost, current, path = heapq.heappop(pq)\n",
    "        if current in visited:\n",
    "            continue\n",
    "        visited.add(current)\n",
    "\n",
    "        # Reach the limit of path length or found the goal\n",
    "        if current == goal or len(path) >= limit:\n",
    "            print(f\"Recommended path: {path} with estimated cost: {estimated_cost}\")\n",
    "            return path\n",
    "\n",
    "        for neighbor in graph.neighbors(current):\n",
    "            if neighbor in visited:\n",
    "                continue\n",
    "\n",
    "            edge_confidence = graph[current][neighbor].get('confidence', 0.1) \n",
    "            new_cost = estimated_cost - edge_confidence  # Higher confidence = lower \"cost\"\n",
    "            new_path = path + [neighbor]\n",
    "\n",
    "            # Estimate future cost (heuristic)\n",
    "            future_cost = heuristic(graph, current, neighbor)\n",
    "            total_estimated_cost = new_cost + future_cost\n",
    "\n",
    "            heapq.heappush(pq, (total_estimated_cost, neighbor, new_path))\n",
    "\n",
    "    print(\"No path found after reaching the specified limit\")\n",
    "    return []"
   ]
  },
  {
   "cell_type": "code",
   "execution_count": 24,
   "id": "b56913e4",
   "metadata": {},
   "outputs": [],
   "source": [
    "def visualize_path(graph, path):\n",
    "    subgraph = graph.subgraph(path)\n",
    "    pos = nx.spring_layout(subgraph)\n",
    "    plt.figure(figsize=(22, 14))\n",
    "    \n",
    "    nx.draw_networkx_nodes(subgraph, pos, nodelist=path, node_color='orange', node_size=3000)\n",
    "    nx.draw_networkx_labels(subgraph, pos, labels={node: node for node in path}, font_size=12, font_color='black')\n",
    "    \n",
    "    path_edges = list(zip(path, path[1:]))\n",
    "    nx.draw_networkx_edges(subgraph, pos, edgelist=path_edges, edge_color='orange', width=2)\n",
    "    \n",
    "    plt.title(f\"Recommended Path: {' -> '.join(path)}\")\n",
    "    plt.show()"
   ]
  },
  {
   "cell_type": "markdown",
   "id": "66425f42",
   "metadata": {},
   "source": [
    "**Example**"
   ]
  },
  {
   "cell_type": "code",
   "execution_count": 25,
   "id": "577b5339",
   "metadata": {},
   "outputs": [
    {
     "name": "stdout",
     "output_type": "stream",
     "text": [
      "Recommended path: ['LUNCH BAG RED RETROSPOT', 'LUNCH BAG VINTAGE DOILY ', 'JUMBO BAG VINTAGE DOILY ', \"JUMBO BAG 50'S CHRISTMAS \", \"PAPER CHAIN KIT 50'S CHRISTMAS \", 'HAND WARMER OWL DESIGN'] with estimated cost: 20.90331324368326\n"
     ]
    }
   ],
   "source": [
    "start_node = 'LUNCH BAG RED RETROSPOT'\n",
    "goal_node = 'HAND WARMER OWL DESIGN'\n",
    "path = a_star_recommendation(G, start_node, goal_node)"
   ]
  },
  {
   "cell_type": "code",
   "execution_count": 26,
   "id": "bc3a7351",
   "metadata": {},
   "outputs": [
    {
     "data": {
      "image/png": "[encoded data removed]",
      "text/plain": [
       "<Figure size 2200x1400 with 1 Axes>"
      ]
     },
     "metadata": {},
     "output_type": "display_data"
    }
   ],
   "source": [
    "visualize_path(G, path)"
   ]
  }
 ],
 "metadata": {
  "kernelspec": {
   "display_name": "Python 3 (ipykernel)",
   "language": "python",
   "name": "python3"
  },
  "language_info": {
   "codemirror_mode": {
    "name": "ipython",
    "version": 3
   },
   "file_extension": ".py",
   "mimetype": "text/x-python",
   "name": "python",
   "nbconvert_exporter": "python",
   "pygments_lexer": "ipython3",
   "version": "3.11.5"
  }
 },
 "nbformat": 4,
 "nbformat_minor": 5
}
